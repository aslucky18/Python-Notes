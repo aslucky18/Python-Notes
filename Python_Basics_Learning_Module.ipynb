{
  "nbformat": 4,
  "nbformat_minor": 0,
  "metadata": {
    "colab": {
      "provenance": [],
      "collapsed_sections": [
        "1aArXeJ41IZO",
        "P419IXjJ1DLj",
        "SK3MKrJT07FK",
        "zaiwsftW0z6w",
        "nyO8POa4zzTX"
      ],
      "authorship_tag": "ABX9TyOR0eMN5ZKCbt5l0pnCeMn3",
      "include_colab_link": true
    },
    "kernelspec": {
      "name": "python3",
      "display_name": "Python 3"
    },
    "language_info": {
      "name": "python"
    }
  },
  "cells": [
    {
      "cell_type": "markdown",
      "metadata": {
        "id": "view-in-github",
        "colab_type": "text"
      },
      "source": [
        "<a href=\"https://colab.research.google.com/github/aslucky18/Python-Notes/blob/main/Python_Basics_Learning_Module.ipynb\" target=\"_parent\"><img src=\"https://colab.research.google.com/assets/colab-badge.svg\" alt=\"Open In Colab\"/></a>"
      ]
    },
    {
      "cell_type": "markdown",
      "source": [
        "---\n",
        "\n",
        "## **Project: Python Basics Learning Module**\n",
        "\n",
        "### **Objectives**\n",
        "- Understand the importance of Python in modern development.\n",
        "- Familiarize with Python IDEs, including Google Colab.\n",
        "- Practice Python syntax, comments, variables, and data types.\n",
        "- Apply Python knowledge through quizzes and coding challenges.\n",
        "\n"
      ],
      "metadata": {
        "id": "EoBsL6HX1Mrd"
      }
    },
    {
      "cell_type": "markdown",
      "source": [
        "### **Part 1: Python and Its Importance in the Modern Day**\n",
        "Python is one of the most widely used programming languages today because it is versatile, easy to learn, and has a large community. It’s popular in fields like data science, machine learning, web development, and more.\n",
        "\n"
      ],
      "metadata": {
        "id": "1aArXeJ41IZO"
      }
    },
    {
      "cell_type": "markdown",
      "source": [
        "#### **Quiz 1: Python's Relevance**\n",
        "1. **Which of the following is a reason Python is popular?**\n",
        "   - a) It has a high learning curve.\n",
        "   - b) It’s a powerful language with a simple syntax.\n",
        "   - c) Python doesn’t have good library support.\n",
        "   \n",
        "\n",
        "2. **Which of these fields commonly use Python?**\n",
        "   - a) Data Science\n",
        "   - b) Web Development\n",
        "   - c) Machine Learning\n",
        "   - d) All of the above\n",
        "\n",
        "\n",
        "3. **True or False:** Python is mainly used for mobile app development.\n",
        "\n"
      ],
      "metadata": {
        "id": "-cHmCES_3c7t"
      }
    },
    {
      "cell_type": "markdown",
      "source": [
        "\n",
        "#### **Reflection Exercise**\n",
        "Write a short paragraph explaining why you think Python is suitable for a project or industry that interests you. Share your thoughts on how learning Python could help in that field.\n",
        "\n",
        "---\n"
      ],
      "metadata": {
        "id": "P419IXjJ1DLj"
      }
    },
    {
      "cell_type": "markdown",
      "source": [
        "---\n",
        "\n",
        "---"
      ],
      "metadata": {
        "id": "pndHsjCY1EWy"
      }
    },
    {
      "cell_type": "markdown",
      "source": [
        "\n",
        "### **Part 2: Python IDEs and Google Colab**\n",
        "Python Integrated Development Environments (IDEs) help you write, test, and debug code efficiently. Google Colab is a web-based platform that allows you to run Python code in a Jupyter Notebook environment.\n",
        "\n"
      ],
      "metadata": {
        "id": "SK3MKrJT07FK"
      }
    },
    {
      "cell_type": "markdown",
      "source": [
        "\n",
        "#### **Quiz 2: Python IDEs**\n",
        "1. **Which of the following is NOT a Python IDE?**\n",
        "   - a) PyCharm\n",
        "   - b) Eclipse\n",
        "   - c) Microsoft Word\n",
        "   \n",
        "\n",
        "2. **True or False:** Google Colab allows you to write and run Python code in a cloud environment.**\n",
        "   \n",
        "\n",
        "3. **Which feature does Google Colab offer?**\n",
        "   - a) Code collaboration\n",
        "   - b) GPU support for machine learning tasks\n",
        "   - c) Notebook sharing\n",
        "   - d) All of the above\n",
        "   \n"
      ],
      "metadata": {
        "id": "7zcu5Oul3jLk"
      }
    },
    {
      "cell_type": "markdown",
      "source": [
        "#### **Exercise**\n",
        "1. Open Google Colab and create a new notebook.\n",
        "2. Write and execute a simple line of code, such as `print(\"Hello, Python!\")`.\n",
        "3. Save the notebook and paste the link here\n",
        "- Link: [Paste Here](https://)\n",
        "\n",
        "---\n",
        "\n"
      ],
      "metadata": {
        "id": "Wl64gpMJ03Dn"
      }
    },
    {
      "cell_type": "markdown",
      "source": [
        "### **Part 3: Python Basics - Syntax, Comments, Variables, and Data Types**\n",
        "\n",
        "#### **Section A: Syntax and Comments**\n",
        "In Python, you can add comments to make the code more readable. Comments are written using the `#` symbol and are not executed.\n",
        "\n"
      ],
      "metadata": {
        "id": "zaiwsftW0z6w"
      }
    },
    {
      "cell_type": "markdown",
      "source": [
        "#### **Coding Exercise 1: Using Comments**\n",
        "1. Open a new cell in Google Colab.\n",
        "2. Write a short script that prints “Hello, World!” and includes a comment explaining what the code does.\n",
        "\n",
        "---\n",
        "\n"
      ],
      "metadata": {
        "id": "BSJi9JRy0keA"
      }
    },
    {
      "cell_type": "code",
      "source": [],
      "metadata": {
        "id": "u1d8R1s827M5"
      },
      "execution_count": null,
      "outputs": []
    },
    {
      "cell_type": "markdown",
      "source": [
        "#### **Section B: Variables and Data Types**\n",
        "Variables are used to store data values. Python supports several data types including:\n",
        "- **Integer** (int): Whole numbers, e.g., `10`\n",
        "- **Float**: Numbers with decimals, e.g., `10.5`\n",
        "- **String** (str): Text, e.g., `\"Hello\"`\n",
        "- **Boolean** (bool): True or False values, e.g., `True`\n"
      ],
      "metadata": {
        "id": "rSdp3wRE0kae"
      }
    },
    {
      "cell_type": "markdown",
      "source": [
        "\n",
        "#### **Quiz 3: Variables and Data Types**\n",
        "1. **Which of the following is an example of a String in Python?**\n",
        "   - a) `\"Hello\"`\n",
        "   - b) `10`\n",
        "   - c) `10.5`\n",
        "   \n",
        "\n",
        "2. **What will be the output of `type(3.14)`?**\n",
        "   - a) int\n",
        "   - b) float\n",
        "   - c) string\n",
        "   \n",
        "\n",
        "3. **True or False:** `is_active = True` is an example of a Boolean variable.\n",
        "   \n",
        "\n"
      ],
      "metadata": {
        "id": "MinSVPjN0kYC"
      }
    },
    {
      "cell_type": "markdown",
      "source": [
        "#### **Coding Exercise 2: Variables and Data Types**\n",
        "1. **Task:** Define variables for your name, age, and whether you are a student or not.\n",
        "2. Print each variable along with its data type.\n",
        "\n"
      ],
      "metadata": {
        "id": "z_JtBLP20kVS"
      }
    },
    {
      "cell_type": "code",
      "source": [],
      "metadata": {
        "id": "cFRIP2T43JRP"
      },
      "execution_count": null,
      "outputs": []
    },
    {
      "cell_type": "markdown",
      "source": [
        "#### **Section C: Putting It All Together**\n",
        "\n",
        "#### **Coding Exercise 3: Create a Simple Calculator**\n",
        "1. **Task:** Write a program that takes two numbers as input from the user and prints their sum, difference, product, and quotient.\n",
        "\n",
        "   **Hint:** Use `int(input(\"Enter a number: \"))` to get user input and convert it to an integer.\n"
      ],
      "metadata": {
        "id": "9cigSnD10Vx0"
      }
    },
    {
      "cell_type": "markdown",
      "source": [
        "\n",
        "#### **Quiz 4: Coding Knowledge Check**\n",
        "1. **What symbol is used for comments in Python?**\n",
        "   - a) //\n",
        "   - b) #\n",
        "   - c) **\n",
        "   \n",
        "\n",
        "2. **True or False:** Strings in Python are enclosed within double or single quotes.\n",
        "   \n",
        "\n",
        "---"
      ],
      "metadata": {
        "id": "BwEVCLqP0Lmc"
      }
    },
    {
      "cell_type": "markdown",
      "source": [
        "### **Project Summary**\n",
        "In this project, you reviewed the basics of Python syntax, comments, variables, data types, and the use of IDEs like Google Colab. This foundation is crucial as it will help you handle more complex Python programming concepts later.\n",
        "\n",
        "Would you like further clarification on any of these topics? Or are you ready to dive deeper into advanced Python concepts?"
      ],
      "metadata": {
        "id": "nyO8POa4zzTX"
      }
    },
    {
      "cell_type": "code",
      "execution_count": null,
      "metadata": {
        "id": "webvA945zsFo"
      },
      "outputs": [],
      "source": []
    },
    {
      "cell_type": "markdown",
      "source": [
        "\n",
        "---\n",
        "\n",
        "# 🔍 **Python Interview Prep: Test Your Knowledge!** 🎓\n",
        "\n",
        "## **Challenge Your Python Basics with Tricky Questions**\n",
        "\n",
        "Think you’ve got the Python basics down? Put your knowledge to the test with these interview-style questions, crafted to challenge your understanding of Python’s core concepts! Dive into questions on syntax, variables, data types, and IDEs that will help you solidify your skills and prepare you for real-world applications."
      ],
      "metadata": {
        "id": "c3KMQATI5Faf"
      }
    },
    {
      "cell_type": "markdown",
      "source": [
        "\n",
        "### **Easy Level Questions**\n",
        "\n",
        "1. **What is the difference between `5` and `\"5\"` in Python, and how does this affect operations you can perform on them?**\n",
        "   \n",
        "2. **Imagine you have this statement in Python: `a, b, c = \"1\", \"2\", 3`. What are the types of `a`, `b`, and `c`, and why?**\n",
        "   \n",
        "\n",
        "3. **When would you use a `#` in Python, and can it be used for multi-line comments? Explain why or why not.**\n",
        "   \n",
        "\n",
        "4. **If you have a variable named `count` set to `5` and you run the statement `count = count + 1`, what will be the value of `count`? Why doesn’t Python give an error for using `count` on both sides of the equation?**\n",
        "   \n",
        "---\n"
      ],
      "metadata": {
        "id": "ooFZb3oJ5rzo"
      }
    },
    {
      "cell_type": "markdown",
      "source": [
        "\n",
        "### **Medium Level Questions**\n",
        "\n",
        "5. **Python has an \"interpreted\" nature. How does this differ from a compiled language, and what is the significance of Python being interpreted?**\n",
        "   \n",
        "\n",
        "6. **Explain why `print(type(10))` and `print(type(10.0))` would give different results. Why might this distinction matter?**\n",
        "   \n",
        "\n",
        "7. **In Google Colab, why might you encounter issues with certain code running slowly, especially if the code includes loops or large data processing? How can you leverage Google Colab’s features to potentially overcome this?**\n",
        "   "
      ],
      "metadata": {
        "id": "cRFTcCky5mbQ"
      }
    }
  ]
}