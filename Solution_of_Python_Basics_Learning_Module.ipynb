{
  "nbformat": 4,
  "nbformat_minor": 0,
  "metadata": {
    "colab": {
      "provenance": [],
      "authorship_tag": "ABX9TyOaTDhDd45NXuQC4nHnqK/0",
      "include_colab_link": true
    },
    "kernelspec": {
      "name": "python3",
      "display_name": "Python 3"
    },
    "language_info": {
      "name": "python"
    }
  },
  "cells": [
    {
      "cell_type": "markdown",
      "metadata": {
        "id": "view-in-github",
        "colab_type": "text"
      },
      "source": [
        "<a href=\"https://colab.research.google.com/github/aslucky18/Python-Notes/blob/main/Solution_of_Python_Basics_Learning_Module.ipynb\" target=\"_parent\"><img src=\"https://colab.research.google.com/assets/colab-badge.svg\" alt=\"Open In Colab\"/></a>"
      ]
    },
    {
      "cell_type": "markdown",
      "source": [
        "---\n",
        "\n",
        "## **Project: Python Basics Learning Module**\n",
        "\n",
        "### **Objectives**\n",
        "- Understand the importance of Python in modern development.\n",
        "- Familiarize with Python IDEs, including Google Colab.\n",
        "- Practice Python syntax, comments, variables, and data types.\n",
        "- Apply Python knowledge through quizzes and coding challenges.\n",
        "\n"
      ],
      "metadata": {
        "id": "EoBsL6HX1Mrd"
      }
    },
    {
      "cell_type": "markdown",
      "source": [
        "### **Part 1: Python and Its Importance in the Modern Day**\n",
        "Python is one of the most widely used programming languages today because it is versatile, easy to learn, and has a large community. It’s popular in fields like data science, machine learning, web development, and more.\n",
        "\n",
        "#### **Quiz 1: Python's Relevance**\n",
        "1. **Which of the following is a reason Python is popular?**\n",
        "   - a) It has a high learning curve.\n",
        "   - b) It’s a powerful language with a simple syntax.\n",
        "   - c) Python doesn’t have good library support.\n",
        "   - **Answer:** b) It’s a powerful language with a simple syntax.\n",
        "\n",
        "2. **Which of these fields commonly use Python?**\n",
        "   - a) Data Science\n",
        "   - b) Web Development\n",
        "   - c) Machine Learning\n",
        "   - d) All of the above\n",
        "   - **Answer:** d) All of the above\n",
        "\n",
        "3. **True or False:** Python is mainly used for mobile app development.\n",
        "   - **Answer:** False. Python is not widely used for mobile development; it’s more common in web development, data science, and automation.\n"
      ],
      "metadata": {
        "id": "1aArXeJ41IZO"
      }
    },
    {
      "cell_type": "markdown",
      "source": [
        "\n",
        "#### **Reflection Exercise**\n",
        "Write a short paragraph explaining why you think Python is suitable for a project or industry that interests you. Share your thoughts on how learning Python could help in that field.\n",
        "\n",
        "---\n"
      ],
      "metadata": {
        "id": "P419IXjJ1DLj"
      }
    },
    {
      "cell_type": "markdown",
      "source": [
        "---\n",
        "Write Here\n",
        "---"
      ],
      "metadata": {
        "id": "pndHsjCY1EWy"
      }
    },
    {
      "cell_type": "markdown",
      "source": [
        "\n",
        "### **Part 2: Python IDEs and Google Colab**\n",
        "Python Integrated Development Environments (IDEs) help you write, test, and debug code efficiently. Google Colab is a web-based platform that allows you to run Python code in a Jupyter Notebook environment.\n",
        "\n",
        "#### **Quiz 2: Python IDEs**\n",
        "1. **Which of the following is NOT a Python IDE?**\n",
        "   - a) PyCharm\n",
        "   - b) Eclipse\n",
        "   - c) Microsoft Word\n",
        "   - **Answer:** c) Microsoft Word\n",
        "\n",
        "2. **True or False:** Google Colab allows you to write and run Python code in a cloud environment.**\n",
        "   - **Answer:** True.\n",
        "\n",
        "3. **Which feature does Google Colab offer?**\n",
        "   - a) Code collaboration\n",
        "   - b) GPU support for machine learning tasks\n",
        "   - c) Notebook sharing\n",
        "   - d) All of the above\n",
        "   - **Answer:** d) All of the above\n",
        "\n"
      ],
      "metadata": {
        "id": "SK3MKrJT07FK"
      }
    },
    {
      "cell_type": "markdown",
      "source": [
        "#### **Exercise**\n",
        "1. Open Google Colab and create a new notebook.\n",
        "2. Write and execute a simple line of code, such as `print(\"Hello, Python!\")`.\n",
        "3. Save the notebook and share it with a friend or instructor.\n",
        "\n",
        "---\n",
        "\n"
      ],
      "metadata": {
        "id": "Wl64gpMJ03Dn"
      }
    },
    {
      "cell_type": "markdown",
      "source": [
        "### **Part 3: Python Basics - Syntax, Comments, Variables, and Data Types**\n",
        "\n",
        "#### **Section A: Syntax and Comments**\n",
        "In Python, you can add comments to make the code more readable. Comments are written using the `#` symbol and are not executed.\n",
        "\n"
      ],
      "metadata": {
        "id": "zaiwsftW0z6w"
      }
    },
    {
      "cell_type": "markdown",
      "source": [
        "#### **Coding Exercise 1: Using Comments**\n",
        "1. Open a new cell in Google Colab.\n",
        "2. Write a short script that prints “Hello, World!” and includes a comment explaining what the code does.\n",
        "\n",
        "   ```python\n",
        "   # This line prints \"Hello, World!\" to the screen\n",
        "   print(\"Hello, World!\")\n",
        "   ```\n",
        "\n",
        "---\n",
        "\n"
      ],
      "metadata": {
        "id": "BSJi9JRy0keA"
      }
    },
    {
      "cell_type": "markdown",
      "source": [
        "#### **Section B: Variables and Data Types**\n",
        "Variables are used to store data values. Python supports several data types including:\n",
        "- **Integer** (int): Whole numbers, e.g., `10`\n",
        "- **Float**: Numbers with decimals, e.g., `10.5`\n",
        "- **String** (str): Text, e.g., `\"Hello\"`\n",
        "- **Boolean** (bool): True or False values, e.g., `True`\n"
      ],
      "metadata": {
        "id": "rSdp3wRE0kae"
      }
    },
    {
      "cell_type": "markdown",
      "source": [
        "\n",
        "#### **Quiz 3: Variables and Data Types**\n",
        "1. **Which of the following is an example of a String in Python?**\n",
        "   - a) `\"Hello\"`\n",
        "   - b) `10`\n",
        "   - c) `10.5`\n",
        "   - **Answer:** a) `\"Hello\"`\n",
        "\n",
        "2. **What will be the output of `type(3.14)`?**\n",
        "   - a) int\n",
        "   - b) float\n",
        "   - c) string\n",
        "   - **Answer:** b) float\n",
        "\n",
        "3. **True or False:** `is_active = True` is an example of a Boolean variable.\n",
        "   - **Answer:** True.\n",
        "\n"
      ],
      "metadata": {
        "id": "MinSVPjN0kYC"
      }
    },
    {
      "cell_type": "markdown",
      "source": [
        "#### **Coding Exercise 2: Variables and Data Types**\n",
        "1. **Task:** Define variables for your name, age, and whether you are a student or not.\n",
        "2. Print each variable along with its data type.\n",
        "\n"
      ],
      "metadata": {
        "id": "z_JtBLP20kVS"
      }
    },
    {
      "cell_type": "markdown",
      "source": [
        "   **Sample Solution:**\n",
        "\n",
        "   ```python\n",
        "   name = \"Alice\"  # String\n",
        "   age = 20        # Integer\n",
        "   is_student = True  # Boolean\n",
        "\n",
        "   print(\"Name:\", name, \"Type:\", type(name))\n",
        "   print(\"Age:\", age, \"Type:\", type(age))\n",
        "   print(\"Is Student:\", is_student, \"Type:\", type(is_student))\n",
        "   ```\n"
      ],
      "metadata": {
        "id": "oMgX0KCt0kSX"
      }
    },
    {
      "cell_type": "markdown",
      "source": [
        "#### **Section C: Putting It All Together**\n",
        "\n",
        "#### **Coding Exercise 3: Create a Simple Calculator**\n",
        "1. **Task:** Write a program that takes two numbers as input from the user and prints their sum, difference, product, and quotient.\n",
        "\n",
        "   **Hint:** Use `int(input(\"Enter a number: \"))` to get user input and convert it to an integer.\n"
      ],
      "metadata": {
        "id": "9cigSnD10Vx0"
      }
    },
    {
      "cell_type": "markdown",
      "source": [
        "\n",
        "   **Sample Solution:**\n",
        "\n",
        "   ```python\n",
        "   # Get input from the user\n",
        "   num1 = int(input(\"Enter the first number: \"))\n",
        "   num2 = int(input(\"Enter the second number: \"))\n",
        "\n",
        "   # Perform calculations\n",
        "   sum_result = num1 + num2\n",
        "   diff_result = num1 - num2\n",
        "   prod_result = num1 * num2\n",
        "   quot_result = num1 / num2 if num2 != 0 else \"undefined\"\n",
        "\n",
        "   # Display results\n",
        "   print(\"Sum:\", sum_result)\n",
        "   print(\"Difference:\", diff_result)\n",
        "   print(\"Product:\", prod_result)\n",
        "   print(\"Quotient:\", quot_result)\n",
        "   ```\n",
        "\n",
        "\n"
      ],
      "metadata": {
        "id": "xjQw2M0S0SaQ"
      }
    },
    {
      "cell_type": "markdown",
      "source": [
        "\n",
        "#### **Quiz 4: Coding Knowledge Check**\n",
        "1. **What symbol is used for comments in Python?**\n",
        "   - a) //\n",
        "   - b) #\n",
        "   - c) **\n",
        "   - **Answer:** b) #\n",
        "\n",
        "2. **True or False:** Strings in Python are enclosed within double or single quotes.\n",
        "   - **Answer:** True.\n",
        "\n",
        "---"
      ],
      "metadata": {
        "id": "BwEVCLqP0Lmc"
      }
    },
    {
      "cell_type": "markdown",
      "source": [
        "### **Project Summary**\n",
        "In this project, you reviewed the basics of Python syntax, comments, variables, data types, and the use of IDEs like Google Colab. This foundation is crucial as it will help you handle more complex Python programming concepts later.\n",
        "\n",
        "Would you like further clarification on any of these topics? Or are you ready to dive deeper into advanced Python concepts?"
      ],
      "metadata": {
        "id": "nyO8POa4zzTX"
      }
    },
    {
      "cell_type": "code",
      "execution_count": null,
      "metadata": {
        "id": "webvA945zsFo"
      },
      "outputs": [],
      "source": []
    },
    {
      "cell_type": "markdown",
      "source": [
        "\n",
        "---\n",
        "\n",
        "# 🔍 **Python Interview Prep: Test Your Knowledge!** 🎓\n",
        "\n",
        "## **Challenge Your Python Basics with Tricky Questions**\n",
        "\n",
        "Think you’ve got the Python basics down? Put your knowledge to the test with these interview-style questions, crafted to challenge your understanding of Python’s core concepts! Dive into questions on syntax, variables, data types, and IDEs that will help you solidify your skills and prepare you for real-world applications."
      ],
      "metadata": {
        "id": "YmmnzCm45ys3"
      }
    },
    {
      "cell_type": "markdown",
      "source": [
        "\n",
        "### **Easy Level Questions**\n",
        "\n",
        "1. **What is the difference between `5` and `\"5\"` in Python, and how does this affect operations you can perform on them?**\n",
        "   - **Answer:** `5` is a number, so you can do math with it, like adding or multiplying. `\"5\"` is text (a string), so you can’t do math with it directly. To do math, you’d first need to convert `\"5\"` to a number.\n",
        "\n",
        "2. **Imagine you have this statement in Python: `a, b, c = \"1\", \"2\", 3`. What are the types of `a`, `b`, and `c`, and why?**\n",
        "   - **Answer:** `a` and `b` are both strings (text) because they have quotes around them. `c` is an integer (whole number) because it doesn’t have quotes. Python sees the quotes and treats anything inside them as text.\n",
        "\n",
        "3. **When would you use a `#` in Python, and can it be used for multi-line comments? Explain why or why not.**\n",
        "   - **Answer:** `#` is used to add comments, which are notes in code that Python ignores when it runs the program. `#` only works for one line at a time, so you’d have to add `#` to each line to make multi-line comments. Another way is to use triple quotes (`\"\"\"`), which creates a big text block that Python also ignores.\n",
        "\n",
        "4. **If you have a variable named `count` set to `5` and you run the statement `count = count + 1`, what will be the value of `count`? Why doesn’t Python give an error for using `count` on both sides of the equation?**\n",
        "   - **Answer:** `count` will become `6`. Python doesn’t give an error because it first calculates `count + 1`, which is `6`, and then updates `count` to this new value.\n",
        "\n",
        "---\n"
      ],
      "metadata": {
        "id": "TG4TOiXF52hc"
      }
    },
    {
      "cell_type": "markdown",
      "source": [
        "\n",
        "### **Medium Level Questions**\n",
        "\n",
        "5. **Python has an \"interpreted\" nature. How does this differ from a compiled language, and what is the significance of Python being interpreted?**\n",
        "   - **Answer:** Python runs code one line at a time, which makes it easy to test and find mistakes quickly, but it can be slower than other programming languages that run all at once, called compiled languages. This makes Python great for fast development but not the best for super-fast performance.\n",
        "\n",
        "6. **Explain why `print(type(10))` and `print(type(10.0))` would give different results. Why might this distinction matter?**\n",
        "   - **Answer:** `print(type(10))` gives `<class 'int'>` because `10` is a whole number (an integer). `print(type(10.0))` gives `<class 'float'>` because `10.0` has a decimal point, making it a floating-point number. This difference matters in math, where using a float (decimal) can change how calculations behave or introduce small rounding errors.\n",
        "\n",
        "7. **In Google Colab, why might you encounter issues with certain code running slowly, especially if the code includes loops or large data processing? How can you leverage Google Colab’s features to potentially overcome this?**\n",
        "   - **Answer:** Google Colab uses limited computer resources by default, so code with lots of calculations or big data can be slow. To speed it up, you can enable a GPU or TPU in Colab’s settings, which will give more power for tasks like data processing or machine learning."
      ],
      "metadata": {
        "id": "NMpaz_Is55MZ"
      }
    }
  ]
}